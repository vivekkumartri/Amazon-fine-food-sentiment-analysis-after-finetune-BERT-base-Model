{
  "cells": [
    {
      "cell_type": "code",
      "execution_count": null,
      "metadata": {
        "id": "FNZvwr7ye_Oo",
        "outputId": "eee76f86-beb6-4eef-ea95-1a22e2a2d26e"
      },
      "outputs": [
        {
          "name": "stdout",
          "output_type": "stream",
          "text": [
            "Requirement already satisfied: transformers in /home/divya/.venv/lib/python3.8/site-packages (4.31.0)\n",
            "Requirement already satisfied: filelock in /home/divya/.venv/lib/python3.8/site-packages (from transformers) (3.12.2)\n",
            "Requirement already satisfied: huggingface-hub<1.0,>=0.14.1 in /home/divya/.venv/lib/python3.8/site-packages (from transformers) (0.16.4)\n",
            "Requirement already satisfied: numpy>=1.17 in /home/divya/.venv/lib/python3.8/site-packages (from transformers) (1.24.3)\n",
            "Requirement already satisfied: packaging>=20.0 in /home/divya/.venv/lib/python3.8/site-packages (from transformers) (23.1)\n",
            "Requirement already satisfied: pyyaml>=5.1 in /home/divya/.venv/lib/python3.8/site-packages (from transformers) (6.0.1)\n",
            "Requirement already satisfied: regex!=2019.12.17 in /home/divya/.venv/lib/python3.8/site-packages (from transformers) (2023.6.3)\n",
            "Requirement already satisfied: requests in /home/divya/.venv/lib/python3.8/site-packages (from transformers) (2.31.0)\n",
            "Requirement already satisfied: tokenizers!=0.11.3,<0.14,>=0.11.1 in /home/divya/.venv/lib/python3.8/site-packages (from transformers) (0.13.3)\n",
            "Requirement already satisfied: safetensors>=0.3.1 in /home/divya/.venv/lib/python3.8/site-packages (from transformers) (0.3.2)\n",
            "Requirement already satisfied: tqdm>=4.27 in /home/divya/.venv/lib/python3.8/site-packages (from transformers) (4.65.0)\n",
            "Requirement already satisfied: fsspec in /home/divya/.venv/lib/python3.8/site-packages (from huggingface-hub<1.0,>=0.14.1->transformers) (2023.6.0)\n",
            "Requirement already satisfied: typing-extensions>=3.7.4.3 in /home/divya/.venv/lib/python3.8/site-packages (from huggingface-hub<1.0,>=0.14.1->transformers) (4.7.1)\n",
            "Requirement already satisfied: charset-normalizer<4,>=2 in /home/divya/.venv/lib/python3.8/site-packages (from requests->transformers) (3.1.0)\n",
            "Requirement already satisfied: idna<4,>=2.5 in /home/divya/.venv/lib/python3.8/site-packages (from requests->transformers) (3.4)\n",
            "Requirement already satisfied: urllib3<3,>=1.21.1 in /home/divya/.venv/lib/python3.8/site-packages (from requests->transformers) (1.26.16)\n",
            "Requirement already satisfied: certifi>=2017.4.17 in /home/divya/.venv/lib/python3.8/site-packages (from requests->transformers) (2023.5.7)\n",
            "Requirement already satisfied: torch in /home/divya/.venv/lib/python3.8/site-packages (2.0.1)\n",
            "Requirement already satisfied: filelock in /home/divya/.venv/lib/python3.8/site-packages (from torch) (3.12.2)\n",
            "Requirement already satisfied: typing-extensions in /home/divya/.venv/lib/python3.8/site-packages (from torch) (4.7.1)\n",
            "Requirement already satisfied: sympy in /home/divya/.venv/lib/python3.8/site-packages (from torch) (1.12)\n",
            "Requirement already satisfied: networkx in /home/divya/.venv/lib/python3.8/site-packages (from torch) (3.1)\n",
            "Requirement already satisfied: jinja2 in /home/divya/.venv/lib/python3.8/site-packages (from torch) (3.1.2)\n",
            "Requirement already satisfied: nvidia-cuda-nvrtc-cu11==11.7.99 in /home/divya/.venv/lib/python3.8/site-packages (from torch) (11.7.99)\n",
            "Requirement already satisfied: nvidia-cuda-runtime-cu11==11.7.99 in /home/divya/.venv/lib/python3.8/site-packages (from torch) (11.7.99)\n",
            "Requirement already satisfied: nvidia-cuda-cupti-cu11==11.7.101 in /home/divya/.venv/lib/python3.8/site-packages (from torch) (11.7.101)\n",
            "Requirement already satisfied: nvidia-cudnn-cu11==8.5.0.96 in /home/divya/.venv/lib/python3.8/site-packages (from torch) (8.5.0.96)\n",
            "Requirement already satisfied: nvidia-cublas-cu11==11.10.3.66 in /home/divya/.venv/lib/python3.8/site-packages (from torch) (11.10.3.66)\n",
            "Requirement already satisfied: nvidia-cufft-cu11==10.9.0.58 in /home/divya/.venv/lib/python3.8/site-packages (from torch) (10.9.0.58)\n",
            "Requirement already satisfied: nvidia-curand-cu11==10.2.10.91 in /home/divya/.venv/lib/python3.8/site-packages (from torch) (10.2.10.91)\n",
            "Requirement already satisfied: nvidia-cusolver-cu11==11.4.0.1 in /home/divya/.venv/lib/python3.8/site-packages (from torch) (11.4.0.1)\n",
            "Requirement already satisfied: nvidia-cusparse-cu11==11.7.4.91 in /home/divya/.venv/lib/python3.8/site-packages (from torch) (11.7.4.91)\n",
            "Requirement already satisfied: nvidia-nccl-cu11==2.14.3 in /home/divya/.venv/lib/python3.8/site-packages (from torch) (2.14.3)\n",
            "Requirement already satisfied: nvidia-nvtx-cu11==11.7.91 in /home/divya/.venv/lib/python3.8/site-packages (from torch) (11.7.91)\n",
            "Requirement already satisfied: triton==2.0.0 in /home/divya/.venv/lib/python3.8/site-packages (from torch) (2.0.0)\n",
            "Requirement already satisfied: setuptools in /home/divya/.venv/lib/python3.8/site-packages (from nvidia-cublas-cu11==11.10.3.66->torch) (68.0.0)\n",
            "Requirement already satisfied: wheel in /home/divya/.venv/lib/python3.8/site-packages (from nvidia-cublas-cu11==11.10.3.66->torch) (0.40.0)\n",
            "Requirement already satisfied: cmake in /home/divya/.venv/lib/python3.8/site-packages (from triton==2.0.0->torch) (3.26.4)\n",
            "Requirement already satisfied: lit in /home/divya/.venv/lib/python3.8/site-packages (from triton==2.0.0->torch) (16.0.6)\n",
            "Requirement already satisfied: MarkupSafe>=2.0 in /home/divya/.venv/lib/python3.8/site-packages (from jinja2->torch) (2.1.3)\n",
            "Requirement already satisfied: mpmath>=0.19 in /home/divya/.venv/lib/python3.8/site-packages (from sympy->torch) (1.3.0)\n"
          ]
        }
      ],
      "source": [
        "# Install Transformers\n",
        "!pip install transformers\n",
        "# To get model summary\n",
        "!pip install torch"
      ]
    },
    {
      "cell_type": "code",
      "execution_count": null,
      "metadata": {
        "id": "iAWhGpmAe_Or",
        "outputId": "285d5f21-cd3b-4f5a-b9b1-e746d9e6dd1b"
      },
      "outputs": [
        {
          "name": "stdout",
          "output_type": "stream",
          "text": [
            "Requirement already satisfied: seaborn in /home/divya/.venv/lib/python3.8/site-packages (0.12.2)\n",
            "Requirement already satisfied: numpy!=1.24.0,>=1.17 in /home/divya/.venv/lib/python3.8/site-packages (from seaborn) (1.24.3)\n",
            "Requirement already satisfied: pandas>=0.25 in /home/divya/.venv/lib/python3.8/site-packages (from seaborn) (2.0.2)\n",
            "Requirement already satisfied: matplotlib!=3.6.1,>=3.1 in /home/divya/.venv/lib/python3.8/site-packages (from seaborn) (3.7.1)\n",
            "Requirement already satisfied: contourpy>=1.0.1 in /home/divya/.venv/lib/python3.8/site-packages (from matplotlib!=3.6.1,>=3.1->seaborn) (1.1.0)\n",
            "Requirement already satisfied: cycler>=0.10 in /home/divya/.venv/lib/python3.8/site-packages (from matplotlib!=3.6.1,>=3.1->seaborn) (0.11.0)\n",
            "Requirement already satisfied: fonttools>=4.22.0 in /home/divya/.venv/lib/python3.8/site-packages (from matplotlib!=3.6.1,>=3.1->seaborn) (4.40.0)\n",
            "Requirement already satisfied: kiwisolver>=1.0.1 in /home/divya/.venv/lib/python3.8/site-packages (from matplotlib!=3.6.1,>=3.1->seaborn) (1.4.4)\n",
            "Requirement already satisfied: packaging>=20.0 in /home/divya/.venv/lib/python3.8/site-packages (from matplotlib!=3.6.1,>=3.1->seaborn) (23.1)\n",
            "Requirement already satisfied: pillow>=6.2.0 in /home/divya/.venv/lib/python3.8/site-packages (from matplotlib!=3.6.1,>=3.1->seaborn) (10.0.0)\n",
            "Requirement already satisfied: pyparsing>=2.3.1 in /home/divya/.venv/lib/python3.8/site-packages (from matplotlib!=3.6.1,>=3.1->seaborn) (3.1.0)\n",
            "Requirement already satisfied: python-dateutil>=2.7 in /home/divya/.venv/lib/python3.8/site-packages (from matplotlib!=3.6.1,>=3.1->seaborn) (2.8.2)\n",
            "Requirement already satisfied: importlib-resources>=3.2.0 in /home/divya/.venv/lib/python3.8/site-packages (from matplotlib!=3.6.1,>=3.1->seaborn) (5.12.0)\n",
            "Requirement already satisfied: pytz>=2020.1 in /home/divya/.venv/lib/python3.8/site-packages (from pandas>=0.25->seaborn) (2023.3)\n",
            "Requirement already satisfied: tzdata>=2022.1 in /home/divya/.venv/lib/python3.8/site-packages (from pandas>=0.25->seaborn) (2023.3)\n",
            "Requirement already satisfied: zipp>=3.1.0 in /home/divya/.venv/lib/python3.8/site-packages (from importlib-resources>=3.2.0->matplotlib!=3.6.1,>=3.1->seaborn) (3.15.0)\n",
            "Requirement already satisfied: six>=1.5 in /home/divya/.venv/lib/python3.8/site-packages (from python-dateutil>=2.7->matplotlib!=3.6.1,>=3.1->seaborn) (1.16.0)\n"
          ]
        }
      ],
      "source": [
        "!pip install seaborn"
      ]
    },
    {
      "cell_type": "code",
      "execution_count": null,
      "metadata": {
        "id": "DgmrR190e_Or",
        "outputId": "ad23e8f0-ceab-4e63-fa38-30357606c7c1"
      },
      "outputs": [
        {
          "name": "stderr",
          "output_type": "stream",
          "text": [
            "2023-08-14 03:17:51.971632: I tensorflow/core/platform/cpu_feature_guard.cc:182] This TensorFlow binary is optimized to use available CPU instructions in performance-critical operations.\n",
            "To enable the following instructions: AVX2 AVX512F FMA, in other operations, rebuild TensorFlow with the appropriate compiler flags.\n",
            "2023-08-14 03:17:52.770602: W tensorflow/compiler/tf2tensorrt/utils/py_utils.cc:38] TF-TRT Warning: Could not find TensorRT\n"
          ]
        }
      ],
      "source": [
        "#import required package\n",
        "import numpy as np\n",
        "import pandas as pd\n",
        "import seaborn as sns\n",
        "import re\n",
        "import torch\n",
        "import random\n",
        "import torch.nn as nn\n",
        "import transformers\n",
        "from transformers import BertModel, BertTokenizer, AdamW, get_linear_schedule_with_warmup\n",
        "import matplotlib.pyplot as plt\n",
        "from torch.utils.data import Dataset, DataLoader\n",
        "from sklearn.model_selection import train_test_split\n",
        "from sklearn.metrics import confusion_matrix, classification_report\n",
        "from collections import defaultdict\n",
        "import pickle\n",
        "from tqdm import tqdm\n",
        "import gradio as gr"
      ]
    },
    {
      "cell_type": "code",
      "execution_count": null,
      "metadata": {
        "id": "uQ16F3cEe_Os"
      },
      "outputs": [],
      "source": [
        "# specify GPU\n",
        "device = torch.device(\"cuda\")"
      ]
    },
    {
      "cell_type": "code",
      "execution_count": null,
      "metadata": {
        "id": "kcW7y65Ue_Os"
      },
      "outputs": [],
      "source": [
        "import os\n",
        "os.environ[\"CUDA_DEVICE_ORDER\"]=\"PCI_BUS_ID\"\n",
        "os.environ['CUDA_VISIBLE_DEVICES']='1'"
      ]
    },
    {
      "cell_type": "code",
      "execution_count": null,
      "metadata": {
        "id": "BuwssEFBe_Os"
      },
      "outputs": [],
      "source": [
        "#read the reviews of fine food from .csv file\n",
        "reviews_df=pd.read_csv(\"/home/divya/vivek5/amazon question answer/Reviews.csv\")"
      ]
    },
    {
      "cell_type": "code",
      "execution_count": null,
      "metadata": {
        "id": "28yyiQroe_Ot",
        "outputId": "76009c82-c498-478c-ebe6-12dafc8c3602"
      },
      "outputs": [
        {
          "data": {
            "text/html": [
              "<div>\n",
              "<style scoped>\n",
              "    .dataframe tbody tr th:only-of-type {\n",
              "        vertical-align: middle;\n",
              "    }\n",
              "\n",
              "    .dataframe tbody tr th {\n",
              "        vertical-align: top;\n",
              "    }\n",
              "\n",
              "    .dataframe thead th {\n",
              "        text-align: right;\n",
              "    }\n",
              "</style>\n",
              "<table border=\"1\" class=\"dataframe\">\n",
              "  <thead>\n",
              "    <tr style=\"text-align: right;\">\n",
              "      <th></th>\n",
              "      <th>Id</th>\n",
              "      <th>ProductId</th>\n",
              "      <th>UserId</th>\n",
              "      <th>ProfileName</th>\n",
              "      <th>HelpfulnessNumerator</th>\n",
              "      <th>HelpfulnessDenominator</th>\n",
              "      <th>Score</th>\n",
              "      <th>Time</th>\n",
              "      <th>Summary</th>\n",
              "      <th>Text</th>\n",
              "    </tr>\n",
              "  </thead>\n",
              "  <tbody>\n",
              "    <tr>\n",
              "      <th>0</th>\n",
              "      <td>1</td>\n",
              "      <td>B001E4KFG0</td>\n",
              "      <td>A3SGXH7AUHU8GW</td>\n",
              "      <td>delmartian</td>\n",
              "      <td>1</td>\n",
              "      <td>1</td>\n",
              "      <td>5</td>\n",
              "      <td>1303862400</td>\n",
              "      <td>Good Quality Dog Food</td>\n",
              "      <td>I have bought several of the Vitality canned d...</td>\n",
              "    </tr>\n",
              "    <tr>\n",
              "      <th>1</th>\n",
              "      <td>2</td>\n",
              "      <td>B00813GRG4</td>\n",
              "      <td>A1D87F6ZCVE5NK</td>\n",
              "      <td>dll pa</td>\n",
              "      <td>0</td>\n",
              "      <td>0</td>\n",
              "      <td>1</td>\n",
              "      <td>1346976000</td>\n",
              "      <td>Not as Advertised</td>\n",
              "      <td>Product arrived labeled as Jumbo Salted Peanut...</td>\n",
              "    </tr>\n",
              "    <tr>\n",
              "      <th>2</th>\n",
              "      <td>3</td>\n",
              "      <td>B000LQOCH0</td>\n",
              "      <td>ABXLMWJIXXAIN</td>\n",
              "      <td>Natalia Corres \"Natalia Corres\"</td>\n",
              "      <td>1</td>\n",
              "      <td>1</td>\n",
              "      <td>4</td>\n",
              "      <td>1219017600</td>\n",
              "      <td>\"Delight\" says it all</td>\n",
              "      <td>This is a confection that has been around a fe...</td>\n",
              "    </tr>\n",
              "    <tr>\n",
              "      <th>3</th>\n",
              "      <td>4</td>\n",
              "      <td>B000UA0QIQ</td>\n",
              "      <td>A395BORC6FGVXV</td>\n",
              "      <td>Karl</td>\n",
              "      <td>3</td>\n",
              "      <td>3</td>\n",
              "      <td>2</td>\n",
              "      <td>1307923200</td>\n",
              "      <td>Cough Medicine</td>\n",
              "      <td>If you are looking for the secret ingredient i...</td>\n",
              "    </tr>\n",
              "    <tr>\n",
              "      <th>4</th>\n",
              "      <td>5</td>\n",
              "      <td>B006K2ZZ7K</td>\n",
              "      <td>A1UQRSCLF8GW1T</td>\n",
              "      <td>Michael D. Bigham \"M. Wassir\"</td>\n",
              "      <td>0</td>\n",
              "      <td>0</td>\n",
              "      <td>5</td>\n",
              "      <td>1350777600</td>\n",
              "      <td>Great taffy</td>\n",
              "      <td>Great taffy at a great price.  There was a wid...</td>\n",
              "    </tr>\n",
              "  </tbody>\n",
              "</table>\n",
              "</div>"
            ],
            "text/plain": [
              "   Id   ProductId          UserId                      ProfileName  \\\n",
              "0   1  B001E4KFG0  A3SGXH7AUHU8GW                       delmartian   \n",
              "1   2  B00813GRG4  A1D87F6ZCVE5NK                           dll pa   \n",
              "2   3  B000LQOCH0   ABXLMWJIXXAIN  Natalia Corres \"Natalia Corres\"   \n",
              "3   4  B000UA0QIQ  A395BORC6FGVXV                             Karl   \n",
              "4   5  B006K2ZZ7K  A1UQRSCLF8GW1T    Michael D. Bigham \"M. Wassir\"   \n",
              "\n",
              "   HelpfulnessNumerator  HelpfulnessDenominator  Score        Time  \\\n",
              "0                     1                       1      5  1303862400   \n",
              "1                     0                       0      1  1346976000   \n",
              "2                     1                       1      4  1219017600   \n",
              "3                     3                       3      2  1307923200   \n",
              "4                     0                       0      5  1350777600   \n",
              "\n",
              "                 Summary                                               Text  \n",
              "0  Good Quality Dog Food  I have bought several of the Vitality canned d...  \n",
              "1      Not as Advertised  Product arrived labeled as Jumbo Salted Peanut...  \n",
              "2  \"Delight\" says it all  This is a confection that has been around a fe...  \n",
              "3         Cough Medicine  If you are looking for the secret ingredient i...  \n",
              "4            Great taffy  Great taffy at a great price.  There was a wid...  "
            ]
          },
          "execution_count": 11,
          "metadata": {},
          "output_type": "execute_result"
        }
      ],
      "source": [
        "#view starting 5 sample from dataset\n",
        "reviews_df.head()"
      ]
    },
    {
      "cell_type": "code",
      "execution_count": null,
      "metadata": {
        "id": "_bVa50fLe_Ou"
      },
      "outputs": [],
      "source": [
        "def itemfreq(data):\n",
        "    \"\"\"\n",
        "    Calculate the frequency of unique items in a 1D array.\n",
        "\n",
        "    This function takes a 1D array and calculates the frequency of each unique item\n",
        "    present in the array. It returns two arrays: one containing the unique items and\n",
        "    another containing the corresponding frequencies of those items.\n",
        "\n",
        "    Parameters\n",
        "    ----------\n",
        "    data : array_like\n",
        "        The input 1D array for which item frequencies will be calculated.\n",
        "\n",
        "    Returns\n",
        "    -------\n",
        "    items : ndarray\n",
        "        1D array\n",
        "            The unique items present in the input data.\n",
        "\n",
        "    freq : ndarray\n",
        "        1D array\n",
        "            The frequencies of the corresponding unique items. The frequency at\n",
        "            index 'i' in this array corresponds to the item at index 'i' in the 'items' array.\n",
        "    \"\"\"\n",
        "    items, inv = np.unique(data, return_inverse=True)\n",
        "    freq = np.bincount(inv)\n",
        "    return items, freq\n"
      ]
    },
    {
      "cell_type": "code",
      "execution_count": null,
      "metadata": {
        "id": "zigtCN4Ne_Ou",
        "outputId": "e0be8990-60f8-4dc3-96c9-db7fb7685036"
      },
      "outputs": [
        {
          "data": {
            "text/plain": [
              "(array([ 18296.,      0.,  10575.,      0.,      0.,  15624.,      0.,\n",
              "         29118.,      0., 126387.]),\n",
              " array([1. , 1.4, 1.8, 2.2, 2.6, 3. , 3.4, 3.8, 4.2, 4.6, 5. ]),\n",
              " <BarContainer object of 10 artists>)"
            ]
          },
          "execution_count": 13,
          "metadata": {},
          "output_type": "execute_result"
        },
        {
          "data": {
            "image/png": "[encoded data removed]",
            "text/plain": [
              "<Figure size 640x480 with 1 Axes>"
            ]
          },
          "metadata": {},
          "output_type": "display_data"
        }
      ],
      "source": [
        "#plot of number of times occurs particular rating\n",
        "plt.hist(reviews_df.Score)"
      ]
    },
    {
      "cell_type": "markdown",
      "source": [
        "***Determine sentiment based on a numerical score.***"
      ],
      "metadata": {
        "id": "UnzcUB03hFwU"
      }
    },
    {
      "cell_type": "code",
      "execution_count": null,
      "metadata": {
        "id": "3BxcYhzxe_Ov",
        "outputId": "600722ba-7910-4006-896d-6877f44930b1"
      },
      "outputs": [
        {
          "data": {
            "text/html": [
              "<div>\n",
              "<style scoped>\n",
              "    .dataframe tbody tr th:only-of-type {\n",
              "        vertical-align: middle;\n",
              "    }\n",
              "\n",
              "    .dataframe tbody tr th {\n",
              "        vertical-align: top;\n",
              "    }\n",
              "\n",
              "    .dataframe thead th {\n",
              "        text-align: right;\n",
              "    }\n",
              "</style>\n",
              "<table border=\"1\" class=\"dataframe\">\n",
              "  <thead>\n",
              "    <tr style=\"text-align: right;\">\n",
              "      <th></th>\n",
              "      <th>Id</th>\n",
              "      <th>ProductId</th>\n",
              "      <th>UserId</th>\n",
              "      <th>ProfileName</th>\n",
              "      <th>HelpfulnessNumerator</th>\n",
              "      <th>HelpfulnessDenominator</th>\n",
              "      <th>Score</th>\n",
              "      <th>Time</th>\n",
              "      <th>Summary</th>\n",
              "      <th>Text</th>\n",
              "      <th>sentiment</th>\n",
              "    </tr>\n",
              "  </thead>\n",
              "  <tbody>\n",
              "    <tr>\n",
              "      <th>0</th>\n",
              "      <td>1</td>\n",
              "      <td>B001E4KFG0</td>\n",
              "      <td>A3SGXH7AUHU8GW</td>\n",
              "      <td>delmartian</td>\n",
              "      <td>1</td>\n",
              "      <td>1</td>\n",
              "      <td>5</td>\n",
              "      <td>1303862400</td>\n",
              "      <td>Good Quality Dog Food</td>\n",
              "      <td>I have bought several of the Vitality canned d...</td>\n",
              "      <td>2</td>\n",
              "    </tr>\n",
              "    <tr>\n",
              "      <th>1</th>\n",
              "      <td>2</td>\n",
              "      <td>B00813GRG4</td>\n",
              "      <td>A1D87F6ZCVE5NK</td>\n",
              "      <td>dll pa</td>\n",
              "      <td>0</td>\n",
              "      <td>0</td>\n",
              "      <td>1</td>\n",
              "      <td>1346976000</td>\n",
              "      <td>Not as Advertised</td>\n",
              "      <td>Product arrived labeled as Jumbo Salted Peanut...</td>\n",
              "      <td>0</td>\n",
              "    </tr>\n",
              "  </tbody>\n",
              "</table>\n",
              "</div>"
            ],
            "text/plain": [
              "   Id   ProductId          UserId ProfileName  HelpfulnessNumerator  \\\n",
              "0   1  B001E4KFG0  A3SGXH7AUHU8GW  delmartian                     1   \n",
              "1   2  B00813GRG4  A1D87F6ZCVE5NK      dll pa                     0   \n",
              "\n",
              "   HelpfulnessDenominator  Score        Time                Summary  \\\n",
              "0                       1      5  1303862400  Good Quality Dog Food   \n",
              "1                       0      1  1346976000      Not as Advertised   \n",
              "\n",
              "                                                Text  sentiment  \n",
              "0  I have bought several of the Vitality canned d...          2  \n",
              "1  Product arrived labeled as Jumbo Salted Peanut...          0  "
            ]
          },
          "execution_count": 14,
          "metadata": {},
          "output_type": "execute_result"
        }
      ],
      "source": [
        "\n",
        "def get_sentiment(score):\n",
        "    \"\"\"\n",
        "    Determine sentiment based on a numerical score.\n",
        "\n",
        "    This function takes a numerical score as input and assigns a sentiment label\n",
        "    based on predefined thresholds. Scores less than or equal to 2 are considered\n",
        "    as having a negative sentiment, scores equal to 3 are considered neutral,\n",
        "    and scores greater than 3 are considered positive.\n",
        "\n",
        "    Parameters\n",
        "    ----------\n",
        "    score : int or float\n",
        "        The numerical score for which sentiment needs to be determined.\n",
        "\n",
        "    Returns\n",
        "    -------\n",
        "    sentiment : int\n",
        "        An integer representing the sentiment:\n",
        "        - 0: Negative sentiment\n",
        "        - 1: Neutral sentiment\n",
        "        - 2: Positive sentiment\n",
        "    \"\"\"\n",
        "\n",
        "    if score <= 2:\n",
        "        return 0  # Negative sentiment\n",
        "    elif score == 3:\n",
        "        return 1  # Neutral sentiment\n",
        "    else:\n",
        "        return 2  # Positive sentiment\n",
        "\n",
        "# Applying the get_sentiment function to a DataFrame column\n",
        "reviews_df['sentiment'] = reviews_df.Score.apply(get_sentiment)\n",
        "\n",
        "# Displaying the first 2 rows of the DataFrame\n",
        "reviews_df.head(2)\n"
      ]
    },
    {
      "cell_type": "code",
      "execution_count": null,
      "metadata": {
        "id": "qRZ-RQ3Ee_Ow",
        "outputId": "9d762f8a-5281-422d-9b3b-b93e2a11ee8f"
      },
      "outputs": [
        {
          "data": {
            "image/png": "[encoded data removed]",
            "text/plain": [
              "<Figure size 640x480 with 1 Axes>"
            ]
          },
          "metadata": {},
          "output_type": "display_data"
        }
      ],
      "source": [
        "#histogram of number of times occurs particular sentiment in dataframe\n",
        "plt.figure()\n",
        "plt.hist(reviews_df['sentiment'])\n",
        "plt.xticks([0, 1, 2],['Negative','Neutral','Positive'])\n",
        "plt.title('sentiment')\n",
        "plt.show()"
      ]
    },
    {
      "cell_type": "code",
      "execution_count": null,
      "metadata": {
        "id": "TunsvfkHe_Ox",
        "outputId": "b548b13c-3261-4eda-94e5-f91033289009"
      },
      "outputs": [
        {
          "name": "stdout",
          "output_type": "stream",
          "text": [
            "originally gave this a 2 star\n",
            "============================================================\n",
            "['originally', 'gave', 'this', 'a', '2', 'star']\n",
            "============================================================\n",
            "[2034, 1522, 1142, 170, 123, 2851]\n"
          ]
        }
      ],
      "source": [
        "# Define the pre-trained model name\n",
        "MODEL_NAME = 'bert-base-cased'\n",
        "\n",
        "# Load the tokenizer for the specified model\n",
        "tokenizer = transformers.BertTokenizer.from_pretrained(MODEL_NAME)\n",
        "\n",
        "# Sample text for tokenization\n",
        "sample_text = \"originally gave this a 2 star\"\n",
        "\n",
        "# Tokenize the sample text\n",
        "tokens = tokenizer.tokenize(sample_text)\n",
        "\n",
        "# Convert tokens to their corresponding IDs\n",
        "ids = tokenizer.convert_tokens_to_ids(tokens)\n",
        "\n",
        "# Print original text, tokens, and token IDs\n",
        "print(f'Original Text: {sample_text}')\n",
        "print('='*60)\n",
        "print('Tokens:', tokens)\n",
        "print('='*60)\n",
        "print('Token IDs:', ids)\n"
      ]
    },
    {
      "cell_type": "markdown",
      "source": [
        "This code prints the special tokens and their corresponding token IDs using the BERT tokenizer from the transformers library. It provides information about the SEP (separator) token and its ID, the CLS (classification) token and its ID, the UNK (unknown) token and its ID, and the PAD (padding) token and its ID. Each line of code prints the token's name and its associated ID for clarity."
      ],
      "metadata": {
        "id": "Mm4fqZHVh7El"
      }
    },
    {
      "cell_type": "code",
      "execution_count": null,
      "metadata": {
        "id": "RLhetckFe_Ox",
        "outputId": "bc3ebb9a-9763-4385-e929-fc19d66aaffb"
      },
      "outputs": [
        {
          "name": "stdout",
          "output_type": "stream",
          "text": [
            "[SEP] 102\n",
            "[CLS] 101\n",
            "[UNK] 100\n",
            "[PAD] 0\n"
          ]
        }
      ],
      "source": [
        "print(tokenizer.sep_token , tokenizer.sep_token_id)\n",
        "print(tokenizer.cls_token,tokenizer.cls_token_id)\n",
        "print(tokenizer.unk_token,tokenizer.unk_token_id)\n",
        "print(tokenizer.pad_token,tokenizer.pad_token_id)"
      ]
    },
    {
      "cell_type": "code",
      "execution_count": null,
      "metadata": {
        "id": "1Hx1pnDre_Oy",
        "outputId": "392b021a-6c26-4ec9-f8c9-603e05d7c875"
      },
      "outputs": [
        {
          "name": "stderr",
          "output_type": "stream",
          "text": [
            "Truncation was not explicitly activated but `max_length` is provided a specific value, please use `truncation=True` to explicitly truncate examples to max length. Defaulting to 'longest_first' truncation strategy. If you encode pairs of sequences (GLUE-style) with the tokenizer you can select this strategy more precisely by providing a specific strategy to `truncation`.\n"
          ]
        }
      ],
      "source": [
        "# Store length of each review\n",
        "token_lens = []\n",
        "\n",
        "# Iterate through the content slide\n",
        "for txt in reviews_df['Text']:\n",
        "    tokens = tokenizer.encode(txt, max_length=512)\n",
        "    token_lens.append(len(tokens))"
      ]
    },
    {
      "cell_type": "code",
      "execution_count": null,
      "metadata": {
        "id": "cSzeYT7re_Oy",
        "outputId": "df2b83d6-00ea-4c5d-e465-7660d6a037c8"
      },
      "outputs": [
        {
          "name": "stderr",
          "output_type": "stream",
          "text": [
            "/tmp/ipykernel_2118880/3831590266.py:2: UserWarning: \n",
            "\n",
            "`distplot` is a deprecated function and will be removed in seaborn v0.14.0.\n",
            "\n",
            "Please adapt your code to use either `displot` (a figure-level function with\n",
            "similar flexibility) or `histplot` (an axes-level function for histograms).\n",
            "\n",
            "For a guide to updating your code to use the new functions, please see\n",
            "https://gist.github.com/mwaskom/de44147ed2974457ad6372750bbe5751\n",
            "\n",
            "  sns.distplot(token_lens)\n"
          ]
        },
        {
          "data": {
            "text/plain": [
              "Text(0.5, 0, 'Token count')"
            ]
          },
          "execution_count": 19,
          "metadata": {},
          "output_type": "execute_result"
        },
        {
          "data": {
            "image/png": "[encoded data removed]",
            "text/plain": [
              "<Figure size 640x480 with 1 Axes>"
            ]
          },
          "metadata": {},
          "output_type": "display_data"
        }
      ],
      "source": [
        "# plot the distribution of review lengths\n",
        "sns.distplot(token_lens)\n",
        "plt.xlim([0, 256])\n",
        "plt.xlabel('Token count')"
      ]
    },
    {
      "cell_type": "code",
      "execution_count": null,
      "metadata": {
        "id": "tetZ2MZZe_Oy"
      },
      "outputs": [],
      "source": [
        "MAX_LEN = 250"
      ]
    },
    {
      "cell_type": "code",
      "execution_count": null,
      "metadata": {
        "id": "O5o71lOMe_Oz"
      },
      "outputs": [],
      "source": [
        "class GPReviewDataset(Dataset):\n",
        "    \"\"\"\n",
        "    Custom PyTorch dataset for sentiment analysis of reviews using BERT-based models.\n",
        "\n",
        "    This dataset class is designed to work with reviews and corresponding sentiment labels. It prepares\n",
        "    the data for model input by tokenizing the reviews, encoding them with special tokens, and padding\n",
        "    sequences to a specified maximum length.\n",
        "\n",
        "    Parameters:\n",
        "    -----------\n",
        "    reviews : list or array-like\n",
        "        List of review texts.\n",
        "\n",
        "    targets : list or array-like\n",
        "        List of sentiment labels corresponding to the reviews.\n",
        "\n",
        "    tokenizer : transformers.PreTrainedTokenizer\n",
        "        A tokenizer object from the transformers library for tokenizing the review texts.\n",
        "\n",
        "    max_len : int\n",
        "        The maximum length of the tokenized and padded sequences.\n",
        "\n",
        "    Returns:\n",
        "    --------\n",
        "    dict\n",
        "        A dictionary containing the following items:\n",
        "        - 'review_text': The original review text.\n",
        "        - 'input_ids': Tensor of token IDs after tokenization and padding.\n",
        "        - 'attention_mask': Tensor indicating positions of valid tokens.\n",
        "        - 'targets': Tensor containing the sentiment label for the review.\n",
        "    \"\"\"\n",
        "\n",
        "    def __init__(self, reviews, targets, tokenizer, max_len):\n",
        "        \"\"\"\n",
        "        Initialize the dataset with reviews, sentiment labels, tokenizer, and maximum sequence length.\n",
        "        \"\"\"\n",
        "        self.reviews = reviews\n",
        "        self.targets = targets\n",
        "        self.tokenizer = tokenizer\n",
        "        self.max_len = max_len\n",
        "\n",
        "    def __len__(self):\n",
        "        \"\"\"\n",
        "        Get the total number of samples in the dataset.\n",
        "        \"\"\"\n",
        "        return len(self.reviews)\n",
        "\n",
        "    def __getitem__(self, item):\n",
        "        \"\"\"\n",
        "        Get a single sample from the dataset by its index.\n",
        "\n",
        "        Parameters:\n",
        "        -----------\n",
        "        item : int\n",
        "            Index of the sample to retrieve.\n",
        "\n",
        "        Returns:\n",
        "        --------\n",
        "        dict\n",
        "            A dictionary containing the prepared data for the model.\n",
        "        \"\"\"\n",
        "        review = str(self.reviews[item])\n",
        "        target = self.targets[item]\n",
        "\n",
        "        # Encode the review text using the tokenizer\n",
        "        encoding = self.tokenizer.encode_plus(\n",
        "            review,\n",
        "            add_special_tokens=True,\n",
        "            max_length=self.max_len,\n",
        "            return_token_type_ids=False,\n",
        "            pad_to_max_length=True,\n",
        "            return_attention_mask=True,\n",
        "            return_tensors='pt',\n",
        "        )\n",
        "        return {\n",
        "            'review_text': review,\n",
        "            'input_ids': encoding['input_ids'].flatten(),\n",
        "            'attention_mask': encoding['attention_mask'].flatten(),\n",
        "            'targets': torch.tensor(target, dtype=torch.long)\n",
        "        }"
      ]
    },
    {
      "cell_type": "code",
      "execution_count": null,
      "metadata": {
        "id": "WsZSBoXMe_Oz",
        "outputId": "0d79f28f-fc22-4403-9bc9-056b8b0cbceb"
      },
      "outputs": [
        {
          "name": "stdout",
          "output_type": "stream",
          "text": [
            "(160000, 11) (20000, 11) (20000, 11)\n"
          ]
        }
      ],
      "source": [
        "# Split the original dataset into training, validation, and test sets\n",
        "df_train, df_test = train_test_split(reviews_df, test_size=0.2, random_state=46)\n",
        "df_val, df_test = train_test_split(df_test, test_size=0.5, random_state=46)\n",
        "\n",
        "# Print the shapes of the resulting datasets\n",
        "print(df_train.shape, df_val.shape, df_test.shape)"
      ]
    },
    {
      "cell_type": "code",
      "execution_count": null,
      "metadata": {
        "id": "i3GBGyGMe_Oz"
      },
      "outputs": [],
      "source": [
        "def create_data_loader(df, tokenizer, max_len, batch_size):\n",
        "    \"\"\"\n",
        "    Create a PyTorch DataLoader for sentiment analysis dataset.\n",
        "\n",
        "    This function takes a DataFrame, tokenizer, maximum sequence length, and batch size as input and\n",
        "    returns a DataLoader that provides batches of preprocessed data for sentiment analysis using BERT-based models.\n",
        "\n",
        "    Parameters:\n",
        "    -----------\n",
        "    df : pandas DataFrame\n",
        "        DataFrame containing 'Text' and 'sentiment' columns.\n",
        "\n",
        "    tokenizer : transformers.PreTrainedTokenizer\n",
        "        A tokenizer object from the transformers library for tokenizing the review texts.\n",
        "\n",
        "    max_len : int\n",
        "        The maximum length of the tokenized and padded sequences.\n",
        "\n",
        "    batch_size : int\n",
        "        The desired batch size for the DataLoader.\n",
        "\n",
        "    Returns:\n",
        "    --------\n",
        "    torch.utils.data.DataLoader\n",
        "        A DataLoader instance that provides batches of preprocessed data for sentiment analysis.\n",
        "\n",
        "    Example:\n",
        "    --------\n",
        "    tokenizer = transformers.BertTokenizer.from_pretrained('bert-base-cased')\n",
        "    train_loader = create_data_loader(df_train, tokenizer, max_len=128, batch_size=32)\n",
        "    \"\"\"\n",
        "\n",
        "    ds = GPReviewDataset(\n",
        "        reviews=df.Text.to_numpy(),\n",
        "        targets=df.sentiment.to_numpy(),\n",
        "        tokenizer=tokenizer,\n",
        "        max_len=max_len\n",
        "    )\n",
        "\n",
        "    return DataLoader(\n",
        "        ds,\n",
        "        batch_size=batch_size,\n",
        "        num_workers=0\n",
        "    )"
      ]
    },
    {
      "cell_type": "code",
      "execution_count": null,
      "metadata": {
        "id": "KXkPEfjUe_Oz"
      },
      "outputs": [],
      "source": [
        "# Create train, test and val data loaders\n",
        "BATCH_SIZE = 16\n",
        "train_data_loader = create_data_loader(df_train, tokenizer, MAX_LEN, BATCH_SIZE)\n",
        "val_data_loader = create_data_loader(df_val, tokenizer, MAX_LEN, BATCH_SIZE)\n",
        "test_data_loader = create_data_loader(df_test, tokenizer, MAX_LEN, BATCH_SIZE)"
      ]
    },
    {
      "cell_type": "code",
      "execution_count": null,
      "metadata": {
        "id": "oZLBUhuse_Oz",
        "outputId": "6c78d6b3-b0d3-4e69-e0e0-b00617ee2ebb"
      },
      "outputs": [
        {
          "name": "stdout",
          "output_type": "stream",
          "text": [
            "dict_keys(['review_text', 'input_ids', 'attention_mask', 'targets'])\n",
            "torch.Size([16, 250])\n",
            "torch.Size([16, 250])\n",
            "torch.Size([16])\n"
          ]
        },
        {
          "name": "stderr",
          "output_type": "stream",
          "text": [
            "/home/divya/.venv/lib/python3.8/site-packages/transformers/tokenization_utils_base.py:2393: FutureWarning: The `pad_to_max_length` argument is deprecated and will be removed in a future version, use `padding=True` or `padding='longest'` to pad to the longest sequence in the batch, or use `padding='max_length'` to pad to a max length. In this case, you can give a specific length with `max_length` (e.g. `max_length=45`) or leave max_length to None to pad to the maximal input size of the model (e.g. 512 for Bert).\n",
            "  warnings.warn(\n"
          ]
        }
      ],
      "source": [
        "# Examples\n",
        "data = next(iter(train_data_loader))\n",
        "print(data.keys())\n",
        "\n",
        "print(data['input_ids'].shape)\n",
        "print(data['attention_mask'].shape)\n",
        "print(data['targets'].shape)"
      ]
    },
    {
      "cell_type": "markdown",
      "source": [
        "*** Load the basic BERT model ***"
      ],
      "metadata": {
        "id": "mA55J7Yyi6k9"
      }
    },
    {
      "cell_type": "code",
      "execution_count": null,
      "metadata": {
        "id": "rleGjRYBe_O0"
      },
      "outputs": [],
      "source": [
        "bert_model = BertModel.from_pretrained(MODEL_NAME)"
      ]
    },
    {
      "cell_type": "code",
      "execution_count": null,
      "metadata": {
        "id": "k53JEiMJe_O0"
      },
      "outputs": [],
      "source": [
        "import torch.nn as nn\n",
        "from transformers import BertModel\n",
        "\n",
        "class SentimentClassifier(nn.Module):\n",
        "    \"\"\"\n",
        "    Sentiment classification model based on BERT.\n",
        "\n",
        "    This class defines a sentiment classification model using BERT as the base. The BERT model is followed\n",
        "    by a dropout layer and a linear layer for predicting sentiment classes.\n",
        "\n",
        "    Parameters:\n",
        "    -----------\n",
        "    n_classes : int\n",
        "        Number of sentiment classes for classification.\n",
        "\n",
        "    Methods:\n",
        "    --------\n",
        "    forward(input_ids, attention_mask)\n",
        "        Forward pass through the model for prediction.\n",
        "    \"\"\"\n",
        "\n",
        "    def __init__(self, n_classes):\n",
        "        \"\"\"\n",
        "        Initialize the sentiment classifier model.\n",
        "\n",
        "        Parameters:\n",
        "        -----------\n",
        "        n_classes : int\n",
        "            Number of sentiment classes for classification.\n",
        "        \"\"\"\n",
        "        super(SentimentClassifier, self).__init__()\n",
        "        self.bert = BertModel.from_pretrained(MODEL_NAME)\n",
        "        self.drop = nn.Dropout(p=0.3)\n",
        "        self.out = nn.Linear(self.bert.config.hidden_size, n_classes)\n",
        "\n",
        "    def forward(self, input_ids, attention_mask):\n",
        "        \"\"\"\n",
        "        Perform a forward pass through the model for prediction.\n",
        "\n",
        "        Parameters:\n",
        "        -----------\n",
        "        input_ids : torch.Tensor\n",
        "            Tensor containing the token IDs of the input text.\n",
        "\n",
        "        attention_mask : torch.Tensor\n",
        "            Tensor containing the attention mask for the input text.\n",
        "\n",
        "        Returns:\n",
        "        --------\n",
        "        torch.Tensor\n",
        "            The model's predicted output.\n",
        "        \"\"\"\n",
        "        output = self.bert(\n",
        "            input_ids=input_ids,\n",
        "            attention_mask=attention_mask\n",
        "        )\n",
        "        output = self.drop(output.pooler_output)\n",
        "        return self.out(output)"
      ]
    },
    {
      "cell_type": "code",
      "execution_count": null,
      "metadata": {
        "id": "hL206O69e_O0"
      },
      "outputs": [],
      "source": [
        "class_names = ['negative', 'neutral', 'positive']\n",
        "# Instantiate the model and move to classifier\n",
        "model = SentimentClassifier(len(class_names))\n",
        "model = model.to(device)"
      ]
    },
    {
      "cell_type": "code",
      "execution_count": null,
      "metadata": {
        "id": "yprPHWRVe_O0",
        "outputId": "28e84eb0-fefd-43c5-a1af-2d3a56f03890"
      },
      "outputs": [
        {
          "name": "stdout",
          "output_type": "stream",
          "text": [
            "768\n"
          ]
        }
      ],
      "source": [
        "# Number of hidden units\n",
        "print(bert_model.config.hidden_size)"
      ]
    },
    {
      "cell_type": "code",
      "execution_count": null,
      "metadata": {
        "id": "J15CjkW3e_O1",
        "outputId": "1d42b7f4-fb21-4e03-f594-2c66cf6f5dce"
      },
      "outputs": [
        {
          "name": "stderr",
          "output_type": "stream",
          "text": [
            "/home/divya/.venv/lib/python3.8/site-packages/transformers/optimization.py:411: FutureWarning: This implementation of AdamW is deprecated and will be removed in a future version. Use the PyTorch implementation torch.optim.AdamW instead, or set `no_deprecation_warning=True` to disable this warning\n",
            "  warnings.warn(\n"
          ]
        }
      ],
      "source": [
        "# Number of training iterations\n",
        "EPOCHS = 10\n",
        "\n",
        "# Create an Adam optimizer\n",
        "optimizer = AdamW(model.parameters(), lr=2e-5, correct_bias=False)\n",
        "\n",
        "# Calculate the total training steps\n",
        "total_steps = len(train_data_loader) * EPOCHS\n",
        "\n",
        "# Create a learning rate scheduler with warm-up\n",
        "scheduler = get_linear_schedule_with_warmup(\n",
        "    optimizer,\n",
        "    num_warmup_steps=0,\n",
        "    num_training_steps=total_steps\n",
        ")\n",
        "\n",
        "# Set the loss function\n",
        "loss_fn = nn.CrossEntropyLoss().to(device)"
      ]
    },
    {
      "cell_type": "code",
      "execution_count": null,
      "metadata": {
        "id": "n_FwGF7Ae_O1"
      },
      "outputs": [],
      "source": [
        "def train_epoch(model, data_loader, loss_fn, optimizer, device, scheduler, n_examples):\n",
        "    \"\"\"\n",
        "    Perform a single training epoch.\n",
        "\n",
        "    This function trains the model for one epoch using the provided data loader, loss function, optimizer,\n",
        "    and scheduler.\n",
        "\n",
        "    Parameters:\n",
        "    -----------\n",
        "    model : nn.Module\n",
        "        The sentiment classification model to be trained.\n",
        "\n",
        "    data_loader : torch.utils.data.DataLoader\n",
        "        The data loader providing training data.\n",
        "\n",
        "    loss_fn : nn.Module\n",
        "        The loss function to calculate the training loss.\n",
        "\n",
        "    optimizer : torch.optim.Optimizer\n",
        "        The optimizer for updating the model's parameters.\n",
        "\n",
        "    device : torch.device\n",
        "        The device (CPU or GPU) on which the training is performed.\n",
        "\n",
        "    scheduler : torch.optim.lr_scheduler\n",
        "        The learning rate scheduler for adjusting the learning rate during training.\n",
        "\n",
        "    n_examples : int\n",
        "        The total number of training examples.\n",
        "\n",
        "    Returns:\n",
        "    --------\n",
        "    float, float\n",
        "        The accuracy and average loss for the epoch.\n",
        "    \"\"\"\n",
        "\n",
        "    model = model.train()\n",
        "    losses = []\n",
        "    correct_predictions = 0\n",
        "\n",
        "    for d in tqdm(data_loader):\n",
        "        input_ids = d[\"input_ids\"].to(device)\n",
        "        attention_mask = d[\"attention_mask\"].to(device)\n",
        "        targets = d[\"targets\"].to(device)\n",
        "\n",
        "        outputs = model(\n",
        "            input_ids=input_ids,\n",
        "            attention_mask=attention_mask\n",
        "        )\n",
        "\n",
        "        _, preds = torch.max(outputs, dim=1)\n",
        "        loss = loss_fn(outputs, targets)\n",
        "        correct_predictions += torch.sum(preds == targets)\n",
        "        losses.append(loss.item())\n",
        "\n",
        "        # Backward propagation\n",
        "        loss.backward()\n",
        "        # Gradient clipping\n",
        "        nn.utils.clip_grad_norm_(model.parameters(), max_norm=1.0)\n",
        "        optimizer.step()\n",
        "        scheduler.step()\n",
        "        optimizer.zero_grad()\n",
        "\n",
        "    return correct_predictions.double() / n_examples, np.mean(losses)"
      ]
    },
    {
      "cell_type": "code",
      "execution_count": null,
      "metadata": {
        "id": "qox5nb37e_O1"
      },
      "outputs": [],
      "source": [
        "def eval_model(model, data_loader, loss_fn, device, n_examples):\n",
        "    \"\"\"\n",
        "    Evaluate the model's performance on the validation or test dataset.\n",
        "\n",
        "    This function evaluates the model's performance on the provided dataset using the provided data loader,\n",
        "    loss function, and device.\n",
        "\n",
        "    Parameters:\n",
        "    -----------\n",
        "    model : nn.Module\n",
        "        The sentiment classification model to be evaluated.\n",
        "\n",
        "    data_loader : torch.utils.data.DataLoader\n",
        "        The data loader providing validation or test data.\n",
        "\n",
        "    loss_fn : nn.Module\n",
        "        The loss function to calculate the evaluation loss.\n",
        "\n",
        "    device : torch.device\n",
        "        The device (CPU or GPU) on which the evaluation is performed.\n",
        "\n",
        "    n_examples : int\n",
        "        The total number of examples in the dataset.\n",
        "\n",
        "    Returns:\n",
        "    --------\n",
        "    float, float\n",
        "        The accuracy and average loss for the evaluation.\n",
        "    \"\"\"\n",
        "\n",
        "    model = model.eval()\n",
        "\n",
        "    losses = []\n",
        "    correct_predictions = 0\n",
        "\n",
        "    with torch.no_grad():\n",
        "        for d in data_loader:\n",
        "            input_ids = d[\"input_ids\"].to(device)\n",
        "            attention_mask = d[\"attention_mask\"].to(device)\n",
        "            targets = d[\"targets\"].to(device)\n",
        "\n",
        "            # Get model outputs\n",
        "            outputs = model(\n",
        "                input_ids=input_ids,\n",
        "                attention_mask=attention_mask\n",
        "            )\n",
        "\n",
        "            _, preds = torch.max(outputs, dim=1)\n",
        "            loss = loss_fn(outputs, targets)\n",
        "\n",
        "            correct_predictions += torch.sum(preds == targets)\n",
        "            losses.append(loss.item())\n",
        "\n",
        "    return correct_predictions.double() / n_examples, np.mean(losses)"
      ]
    },
    {
      "cell_type": "markdown",
      "source": [
        "*** Training the model ***"
      ],
      "metadata": {
        "id": "4V-RedPzkFzn"
      }
    },
    {
      "cell_type": "code",
      "execution_count": null,
      "metadata": {
        "id": "QNzfeMZXe_O2",
        "outputId": "6db9a66a-237d-4fe9-ef8a-a26146436ff4"
      },
      "outputs": [
        {
          "name": "stdout",
          "output_type": "stream",
          "text": [
            "Epoch 1/10\n",
            "----------\n"
          ]
        },
        {
          "name": "stderr",
          "output_type": "stream",
          "text": [
            "100%|██████████| 10000/10000 [48:27<00:00,  3.44it/s]\n"
          ]
        },
        {
          "name": "stdout",
          "output_type": "stream",
          "text": [
            "Train loss 0.437259683095105 accuracy 0.8518\n",
            "Val   loss 0.395620401853323 accuracy 0.88105\n",
            "\n",
            "Epoch 2/10\n",
            "----------\n"
          ]
        },
        {
          "name": "stderr",
          "output_type": "stream",
          "text": [
            "100%|██████████| 10000/10000 [48:42<00:00,  3.42it/s]\n"
          ]
        },
        {
          "name": "stdout",
          "output_type": "stream",
          "text": [
            "Train loss 0.3355792592415586 accuracy 0.888475\n",
            "Val   loss 0.3036631541714072 accuracy 0.89575\n",
            "\n",
            "Epoch 3/10\n",
            "----------\n"
          ]
        },
        {
          "name": "stderr",
          "output_type": "stream",
          "text": [
            "100%|██████████| 10000/10000 [48:32<00:00,  3.43it/s]\n"
          ]
        },
        {
          "name": "stdout",
          "output_type": "stream",
          "text": [
            "Train loss 0.28131443123938515 accuracy 0.90975625\n",
            "Val   loss 0.32476626813784243 accuracy 0.9003\n",
            "\n",
            "Epoch 4/10\n",
            "----------\n"
          ]
        },
        {
          "name": "stderr",
          "output_type": "stream",
          "text": [
            "100%|██████████| 10000/10000 [48:35<00:00,  3.43it/s]\n"
          ]
        },
        {
          "name": "stdout",
          "output_type": "stream",
          "text": [
            "Train loss 0.2513500333808362 accuracy 0.9251312500000001\n",
            "Val   loss 0.32960303543359043 accuracy 0.8998\n",
            "\n",
            "Epoch 5/10\n",
            "----------\n"
          ]
        },
        {
          "name": "stderr",
          "output_type": "stream",
          "text": [
            "100%|██████████| 10000/10000 [48:40<00:00,  3.42it/s]\n"
          ]
        },
        {
          "name": "stdout",
          "output_type": "stream",
          "text": [
            "Train loss 0.22257677220288896 accuracy 0.9372812500000001\n",
            "Val   loss 0.344810073299706 accuracy 0.9042\n",
            "\n",
            "Epoch 6/10\n",
            "----------\n"
          ]
        },
        {
          "name": "stderr",
          "output_type": "stream",
          "text": [
            "100%|██████████| 10000/10000 [48:36<00:00,  3.43it/s]\n"
          ]
        },
        {
          "name": "stdout",
          "output_type": "stream",
          "text": [
            "Train loss 0.19210175439191515 accuracy 0.948725\n",
            "Val   loss 0.3947672142362222 accuracy 0.904\n",
            "\n",
            "Epoch 7/10\n",
            "----------\n"
          ]
        },
        {
          "name": "stderr",
          "output_type": "stream",
          "text": [
            "100%|██████████| 10000/10000 [48:40<00:00,  3.42it/s]\n"
          ]
        },
        {
          "name": "stdout",
          "output_type": "stream",
          "text": [
            "Train loss 0.16836651281533996 accuracy 0.95810625\n",
            "Val   loss 0.4523221901897341 accuracy 0.9039\n",
            "\n",
            "Epoch 8/10\n",
            "----------\n"
          ]
        },
        {
          "name": "stderr",
          "output_type": "stream",
          "text": [
            "100%|██████████| 10000/10000 [48:36<00:00,  3.43it/s]\n"
          ]
        },
        {
          "name": "stdout",
          "output_type": "stream",
          "text": [
            "Train loss 0.14673091283872491 accuracy 0.9650937500000001\n",
            "Val   loss 0.4342103717836551 accuracy 0.9106000000000001\n",
            "\n",
            "Epoch 9/10\n",
            "----------\n"
          ]
        },
        {
          "name": "stderr",
          "output_type": "stream",
          "text": [
            "100%|██████████| 10000/10000 [48:42<00:00,  3.42it/s]\n"
          ]
        },
        {
          "name": "stdout",
          "output_type": "stream",
          "text": [
            "Train loss 0.12769193379548377 accuracy 0.9709000000000001\n",
            "Val   loss 0.4672267551389523 accuracy 0.9105000000000001\n",
            "\n",
            "Epoch 10/10\n",
            "----------\n"
          ]
        },
        {
          "name": "stderr",
          "output_type": "stream",
          "text": [
            "100%|██████████| 10000/10000 [49:31<00:00,  3.37it/s]\n"
          ]
        },
        {
          "name": "stdout",
          "output_type": "stream",
          "text": [
            "Train loss 0.11631839626120637 accuracy 0.9739625000000001\n",
            "Val   loss 0.46442474859515204 accuracy 0.9126500000000001\n",
            "\n"
          ]
        }
      ],
      "source": [
        "history = defaultdict(list)\n",
        "best_accuracy = 0\n",
        "\n",
        "for epoch in range(EPOCHS):\n",
        "\n",
        "    # Show epoch details\n",
        "    print(f\"Epoch {epoch + 1}/{EPOCHS}\")\n",
        "    print(\"-\" * 10)\n",
        "\n",
        "    # Train the model for one epoch\n",
        "    train_acc, train_loss = train_epoch(\n",
        "        model,\n",
        "        train_data_loader,\n",
        "        loss_fn,\n",
        "        optimizer,\n",
        "        device,\n",
        "        scheduler,\n",
        "        len(df_train)\n",
        "    )\n",
        "\n",
        "    print(f\"Train loss {train_loss:.4f} accuracy {train_acc:.4f}\")\n",
        "\n",
        "    # Evaluate the model on the validation set\n",
        "    val_acc, val_loss = eval_model(\n",
        "        model,\n",
        "        val_data_loader,\n",
        "        loss_fn,\n",
        "        device,\n",
        "        len(df_val)\n",
        "    )\n",
        "\n",
        "    print(f\"Val   loss {val_loss:.4f} accuracy {val_acc:.4f}\")\n",
        "    print()\n",
        "\n",
        "    # Save history of training and validation metrics\n",
        "    history['train_acc'].append(train_acc.item())\n",
        "    history['train_loss'].append(train_loss)\n",
        "    history['val_acc'].append(val_acc.item())\n",
        "    history['val_loss'].append(val_loss)\n",
        "\n",
        "    # Save model checkpoint if validation accuracy improves\n",
        "    if val_acc > best_accuracy:\n",
        "        torch.save(model.state_dict(), 'best_model_state.bin')\n",
        "        best_accuracy = val_acc\n",
        "\n",
        "    # Save model and SentimentClassifier class using pickle\n",
        "    dict_ = {'model': model, 'SentimentClassifier': SentimentClassifier}\n",
        "    with open('/home/divya/vivek5/sentiment_analysis_finetune_bert.pkl', 'wb') as f:\n",
        "        pickle.dump(dict_, f)"
      ]
    },
    {
      "cell_type": "code",
      "execution_count": null,
      "metadata": {
        "id": "vgNdfRJfe_O2",
        "outputId": "65b9d337-8d24-431d-fb7e-8bccb6278cd1"
      },
      "outputs": [
        {
          "data": {
            "text/plain": [
              "(0.0, 1.0)"
            ]
          },
          "execution_count": 35,
          "metadata": {},
          "output_type": "execute_result"
        },
        {
          "data": {
            "image/png": "[encoded data removed]",
            "text/plain": [
              "<Figure size 640x480 with 1 Axes>"
            ]
          },
          "metadata": {},
          "output_type": "display_data"
        }
      ],
      "source": [
        "# Plot training and validation accuracy\n",
        "plt.plot(history['train_acc'], label='train accuracy')\n",
        "plt.plot(history['val_acc'], label='validation accuracy')\n",
        "\n",
        "# Graph chars\n",
        "plt.title('Training history')\n",
        "plt.ylabel('Accuracy')\n",
        "plt.xlabel('Epoch')\n",
        "plt.legend()\n",
        "plt.ylim([0, 1])"
      ]
    },
    {
      "cell_type": "code",
      "execution_count": null,
      "metadata": {
        "id": "zpDkjdVBe_O2",
        "outputId": "3df27502-b982-486a-cb39-1bad5422ccb6"
      },
      "outputs": [
        {
          "data": {
            "text/plain": [
              "0.9063"
            ]
          },
          "execution_count": 36,
          "metadata": {},
          "output_type": "execute_result"
        }
      ],
      "source": [
        "test_acc, _ = eval_model(\n",
        "  model,\n",
        "  test_data_loader,\n",
        "  loss_fn,\n",
        "  device,\n",
        "  len(df_test)\n",
        ")\n",
        "\n",
        "test_acc.item()"
      ]
    },
    {
      "cell_type": "code",
      "execution_count": null,
      "metadata": {
        "id": "hSG1wQD8e_O2"
      },
      "outputs": [],
      "source": [
        "def get_predictions(model, data_loader):\n",
        "    \"\"\"\n",
        "    Generate predictions and evaluation metrics using a trained sentiment classification model.\n",
        "\n",
        "    This function takes a trained sentiment classification model and a data loader providing input data\n",
        "    for evaluation. It returns lists containing review texts, predicted sentiment labels, prediction\n",
        "    probabilities, and actual sentiment labels.\n",
        "\n",
        "    Parameters:\n",
        "    -----------\n",
        "    model : nn.Module\n",
        "        The trained sentiment classification model.\n",
        "\n",
        "    data_loader : torch.utils.data.DataLoader\n",
        "        The data loader providing input data for evaluation.\n",
        "\n",
        "    Returns:\n",
        "    --------\n",
        "    list, list, list, list\n",
        "        Lists containing review texts, predicted sentiment labels, prediction probabilities, and actual\n",
        "        sentiment labels, respectively.\n",
        "    \"\"\"\n",
        "\n",
        "    model = model.eval()\n",
        "\n",
        "    review_texts = []\n",
        "    predictions = []\n",
        "    prediction_probs = []\n",
        "    real_values = []\n",
        "\n",
        "    with torch.no_grad():\n",
        "        for d in data_loader:\n",
        "            texts = d[\"review_text\"]\n",
        "            input_ids = d[\"input_ids\"].to(device)\n",
        "            attention_mask = d[\"attention_mask\"].to(device)\n",
        "            targets = d[\"targets\"].to(device)\n",
        "\n",
        "            outputs = model(\n",
        "                input_ids=input_ids,\n",
        "                attention_mask=attention_mask\n",
        "            )\n",
        "            _, preds = torch.max(outputs, dim=1)\n",
        "\n",
        "            review_texts.extend(texts)\n",
        "            predictions.extend(preds.tolist())\n",
        "            prediction_probs.extend(outputs.tolist())\n",
        "            real_values.extend(targets.tolist())\n",
        "\n",
        "    return review_texts, predictions, prediction_probs, real_values"
      ]
    },
    {
      "cell_type": "code",
      "execution_count": null,
      "metadata": {
        "id": "XDr-PYYWe_O3",
        "outputId": "8c4f85dd-d381-413e-f192-ca561e6c9d7c"
      },
      "outputs": [
        {
          "data": {
            "image/png": "[encoded data removed]",
            "text/plain": [
              "<Figure size 640x480 with 2 Axes>"
            ]
          },
          "metadata": {},
          "output_type": "display_data"
        }
      ],
      "source": [
        "import seaborn as sns\n",
        "import matplotlib.pyplot as plt\n",
        "import pandas as pd\n",
        "\n",
        "def show_confusion_matrix(confusion_matrix):\n",
        "    \"\"\"\n",
        "    Display a confusion matrix using a heatmap.\n",
        "\n",
        "    This function takes a confusion matrix as input and displays it using a heatmap with labeled axes.\n",
        "\n",
        "    Parameters:\n",
        "    -----------\n",
        "    confusion_matrix : numpy.ndarray\n",
        "        The confusion matrix to be visualized\n",
        "    \"\"\"\n",
        "\n",
        "    hmap = sns.heatmap(confusion_matrix, annot=True, fmt=\"d\", cmap=\"Blues\")\n",
        "    hmap.yaxis.set_ticklabels(hmap.yaxis.get_ticklabels(), rotation=0, ha='right')\n",
        "    hmap.xaxis.set_ticklabels(hmap.xaxis.get_ticklabels(), rotation=30, ha='right')\n",
        "    plt.ylabel('True sentiment')\n",
        "    plt.xlabel('Predicted sentiment')\n",
        "\n",
        "\n",
        "cm = confusion_matrix(y_test, y_pred)\n",
        "df_cm = pd.DataFrame(cm, index=class_names, columns=class_names)\n",
        "show_confusion_matrix(df_cm)"
      ]
    },
    {
      "cell_type": "markdown",
      "source": [
        "#Example"
      ],
      "metadata": {
        "id": "XgKwwSKalEqI"
      }
    },
    {
      "cell_type": "code",
      "execution_count": null,
      "metadata": {
        "id": "dW6bilUJe_O3"
      },
      "outputs": [],
      "source": [
        "review_text = \"I love completing my todos! Best app ever!!!\""
      ]
    },
    {
      "cell_type": "code",
      "execution_count": null,
      "metadata": {
        "id": "-Iz6fFjZe_PC"
      },
      "outputs": [],
      "source": [
        "def softmax(array_):\n",
        "    return np.exp(array_)/ np.sum(np.exp(array_))"
      ]
    },
    {
      "cell_type": "code",
      "execution_count": null,
      "metadata": {
        "id": "4bHzfaoYe_PD"
      },
      "outputs": [],
      "source": [
        "def sentiment_analyse(review_text):\n",
        "    encoded_review = tokenizer.encode_plus(\n",
        "        review_text,\n",
        "        max_length=MAX_LEN,\n",
        "        add_special_tokens=True,\n",
        "        return_token_type_ids=False,\n",
        "        pad_to_max_length=True,\n",
        "        return_attention_mask=True,\n",
        "        return_tensors='pt',\n",
        "    )\n",
        "    input_ids = encoded_review['input_ids'].to(device)\n",
        "    attention_mask = encoded_review['attention_mask'].to(device)\n",
        "\n",
        "    output = model(input_ids, attention_mask)\n",
        "    _, prediction = torch.max(output, dim=1)\n",
        "    return \"given review is \"+str(class_names[prediction])+\" with \" +str(round(np.max(softmax(output.detach().cpu().numpy()))*100,2))+\"% confidence\""
      ]
    },
    {
      "cell_type": "code",
      "execution_count": null,
      "metadata": {
        "id": "If9iO4VTe_PD",
        "outputId": "303927f0-98b6-4ec0-d086-569249d8516e"
      },
      "outputs": [
        {
          "data": {
            "text/plain": [
              "'given review is positive with 96.9% confidence'"
            ]
          },
          "execution_count": 32,
          "metadata": {},
          "output_type": "execute_result"
        }
      ],
      "source": [
        "sentiment_analyse(review_text)"
      ]
    },
    {
      "cell_type": "code",
      "execution_count": null,
      "metadata": {
        "id": "SXSHf0Vye_PE"
      },
      "outputs": [],
      "source": []
    }
  ],
  "metadata": {
    "kernelspec": {
      "display_name": "Python 3",
      "language": "python",
      "name": "python3"
    },
    "language_info": {
      "codemirror_mode": {
        "name": "ipython",
        "version": 3
      },
      "file_extension": ".py",
      "mimetype": "text/x-python",
      "name": "python",
      "nbconvert_exporter": "python",
      "pygments_lexer": "ipython3",
      "version": "3.8.10"
    },
    "orig_nbformat": 4,
    "colab": {
      "provenance": []
    }
  },
  "nbformat": 4,
  "nbformat_minor": 0
}